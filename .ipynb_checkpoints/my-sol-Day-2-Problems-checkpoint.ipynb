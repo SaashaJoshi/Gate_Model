{
 "cells": [
  {
   "cell_type": "markdown",
   "id": "0dc2cc6d",
   "metadata": {},
   "source": [
    "# Quantum Teleportation\n",
    "------\n",
    "\n",
    "Alice has a qubit in state $\n",
    "\\left|\\psi\\right>=\\alpha\\left|0\\right>+\\beta\\left|1\\right>$.\n",
    "\n",
    "She wants to send this quantum information to Bob.\n",
    "However the laws of quantum mechanics prevent making a copy of her qubit (the no-cloning theorem). Alice can transfer her state to Bob using two classical bits and an entangled pair. This is 'teleportation' because the original qubit is not physically transferred but afterwards Bob will have state $\\left|\\psi\\right>$ and Alice will not have it anymore.\n",
    "\n",
    "------\n",
    "\n",
    "### Overview\n",
    "\n",
    "One qubit of an entangled pair is given to Alice and one is given to Bob.\n",
    "\n",
    "Alice measures her two qubits in the Bell basis and sends the (classical) results to Bob.\n",
    "\n",
    "Using those classical bits, Bob will decide whether to apply particular gates to his qubit.\n",
    "\n",
    "Afterwards Bob will have the state $\\left|\\psi\\right>$.\n",
    "\n",
    "------"
   ]
  },
  {
   "cell_type": "markdown",
   "id": "af170b32",
   "metadata": {},
   "source": [
    "First we import `pennylane` and initialize a quantum device."
   ]
  },
  {
   "cell_type": "code",
   "execution_count": 1,
   "id": "3ad58226",
   "metadata": {},
   "outputs": [],
   "source": [
    "# imports\n",
    "import pennylane as qml\n",
    "from pennylane import numpy as np\n",
    "\n",
    "# first we set up device\n",
    "dev = qml.device(\"qiskit.aer\", wires=3, shots=1000)\n",
    "# we will use the qiskit simulator so we can make prettier circuit diagrams"
   ]
  },
  {
   "cell_type": "markdown",
   "id": "43b55bd2",
   "metadata": {},
   "source": [
    "The following function will be used to create the initial state $\\left|\\psi\\right>$."
   ]
  },
  {
   "cell_type": "code",
   "execution_count": 2,
   "id": "6f9eb0d5",
   "metadata": {},
   "outputs": [],
   "source": [
    "def initialize_psi(theta,phi,wire=0):\n",
    "    qml.Rot(0,theta,phi,wires=wire)"
   ]
  },
  {
   "cell_type": "markdown",
   "id": "df70b3b5",
   "metadata": {},
   "source": [
    "> ***Exercise 1.***\n",
    ">Create a Bell pair on qubits 1 and 2.\n",
    ">(i.e. the state $\\frac{1}{\\sqrt{2}}\\left|00\\right>+\\left|11\\right>$)\n",
    "> by completing the following function."
   ]
  },
  {
   "cell_type": "code",
   "execution_count": 3,
   "id": "4bae02a8",
   "metadata": {},
   "outputs": [],
   "source": [
    "def create_Bell_state():\n",
    "    # Your solution here\n",
    "    qml.Hadamard(wires = 1)\n",
    "    qml.CNOT(wires = [1, 2])"
   ]
  },
  {
   "cell_type": "markdown",
   "id": "1e332674",
   "metadata": {},
   "source": [
    "Let's pretend qubit `1` is sent to Alice and qubit `2` is sent to Bob (on a physical quantum computer the bits cannot be sent anywhere).\n",
    "\n",
    "Therefore Alice can only manipulate qubits `0` and `1`. She will apply the following gates."
   ]
  },
  {
   "cell_type": "code",
   "execution_count": 4,
   "id": "6bfa554f",
   "metadata": {},
   "outputs": [],
   "source": [
    "def Alice_gates():\n",
    "    qml.CNOT(wires=[0,1])\n",
    "    qml.Hadamard(wires=0)"
   ]
  },
  {
   "cell_type": "markdown",
   "id": "9674aa2c",
   "metadata": {},
   "source": [
    "> ***Exercise 2.***\n",
    ">Show that, if Alice's qubits are measured after applying her gates, they will  in the Bell basis.\n",
    ">i.e. Show that the quantum \n",
    "circuit \n",
    "><div><img src=\"images/bell.jpg\" width=\"200\"></div> \n",
    "maps the four Bell states \n",
    ">$$\n",
    "\\begin{aligned}\n",
    "    \\left|\\Phi_+ \\right> &= \\frac{1}{\\sqrt{2}} \\left( \\left|00 \\right> + \\left|11 \\right> \\right)\\\\\n",
    "    \\left|\\Phi_- \\right> &= \\frac{1}{\\sqrt{2}} \\left( \\left|00 \\right> - \\left|11 \\right> \\right)\\\\\n",
    "    \\left|\\Psi_+ \\right> &= \\frac{1}{\\sqrt{2}} \\left( \\left|01 \\right> + \\left|10 \\right> \\right)\\\\\n",
    "    \\left|\\Psi_+ \\right> &= \\frac{1}{\\sqrt{2}} \\left( \\left|01 \\right> - \\left|10 \\right> \\right) \\,.\n",
    "\\end{aligned}\n",
    "$$\n",
    ">to the computational basis states: \n",
    "$\\left|00\\right>, \\left|01\\right>,\\left|10\\right>, \\left|11\\right>$ "
   ]
  },
  {
   "cell_type": "markdown",
   "id": "8ed89aeb",
   "metadata": {},
   "source": [
    "Teleportation can be achieved if Alice measures her qubits (`0` and `1`) and sends the results (classical bits) to Bob.\n",
    "<div><img src=\"images/bell_measure.jpg\" width=\"200\"></div> \n",
    "\n",
    "Bob will then manipulate his qubit (`2`) based on those results."
   ]
  },
  {
   "cell_type": "markdown",
   "id": "a91d4cad",
   "metadata": {},
   "source": [
    "Depending on the measurement outcomes, Bob needs to make some adjustments to qubit `2` as shown below. Here, $Z^{M_1}$ and $X^{M_2}$ means that the Pauli gates are only applied when $M_1=1$ and $M_2=1$, respectively. These single-qubit gates are sometimes referred to as *Pauli corrections*.\n",
    "\n",
    "This circuit constitutes are final teleportation algorithm:"
   ]
  },
  {
   "cell_type": "markdown",
   "id": "58cddc14",
   "metadata": {},
   "source": [
    "<div>\n",
    "<img src=\"images/tele_circuit.jpg\" width=\"700\">\n",
    "</div>\n",
    "\n",
    "Alternate version of circuit diagram (via `qiskit`, with an example):\n",
    "<div>\n",
    "<img src=\"images/qiskit_teleportation.png\" width=\"700\">\n",
    "</div>"
   ]
  },
  {
   "cell_type": "markdown",
   "id": "d64cd20c",
   "metadata": {},
   "source": [
    "In `pennylane` and on current quantum hardware we are limited to performing all measurements at the end. So we cannot in practice manipulate qubit 2 after measuring 0 and 1.\n",
    "\n",
    "However we can still produce $\\left|\\psi\\right>$ on qubit 2\n",
    "due to the *deferred measurement principle* [1].\n",
    "This principle states that any measurement can be postponed until the end of the circuit, i.e. we can move all the measurements to the end, and we should see the same results.\n",
    "\n",
    "The measurement controlled Pauli gates can be converted to regular controlled gates.\n",
    "\n",
    "<div>\n",
    "<img src=\"images/defer_measurement.svg\" width=\"300\">\n",
    "</div>"
   ]
  },
  {
   "cell_type": "code",
   "execution_count": 5,
   "id": "bc41f45b",
   "metadata": {},
   "outputs": [],
   "source": [
    "# instead of measuring at this point, we apply controlled gates\n",
    "def Bob_gates():\n",
    "    qml.CNOT(wires=[1,2])\n",
    "    qml.CZ(wires=[0,2])"
   ]
  },
  {
   "cell_type": "markdown",
   "id": "5c5a5d05",
   "metadata": {},
   "source": [
    "We can show that we've acquired the correct state by applying the inverse of our state initialization on qubit 2 and show that it returns to state $\\left|0\\right>$.\n",
    "\n",
    "> ***Exercise 3.***\n",
    ">Complete the following code for the teleportation protocol. (Use the previously defined functions to apply the gates, then use `qml.adjoint` to apply the inverse of the inialization (i.e. the *disentangler*).\n",
    "\n",
    "The final circuit will look something like this (it's ok if there are more measurements drawn or the barriers are not included):\n",
    "\n",
    "<div>\n",
    "<img src=\"images/qiskit_teleportation_defer.png\" width=\"700\">\n",
    "</div>"
   ]
  },
  {
   "cell_type": "code",
   "execution_count": 6,
   "id": "a1e78fe9",
   "metadata": {},
   "outputs": [],
   "source": [
    "@qml.qnode(dev)\n",
    "def Teleportation(theta, phi):\n",
    "    # Your solution here\n",
    "    initialize_psi(theta, phi, wire = 0)\n",
    "    create_Bell_state()\n",
    "    Alice_gates()\n",
    "    Bob_gates()\n",
    "    qml.adjoint(initialize_psi(theta, phi, wire = 2))\n",
    "\n",
    "    return qml.probs(2)"
   ]
  },
  {
   "cell_type": "markdown",
   "id": "d1a93782",
   "metadata": {},
   "source": [
    ">***Hint:*** `qml.adjoint(f)(params)` takes a gate or function `f` which applies gates and passes it the parameters `params`. Here `f` should be `initialize_psi`, but remember you need to apply the disentangler to qubit `2`."
   ]
  },
  {
   "cell_type": "code",
   "execution_count": 7,
   "id": "53d8bc02",
   "metadata": {},
   "outputs": [],
   "source": [
    "np.random.seed(0)\n",
    "theta = np.pi*np.random.uniform()\n",
    "phi = np.pi/2*np.random.uniform()"
   ]
  },
  {
   "cell_type": "code",
   "execution_count": 8,
   "id": "d0b52f09",
   "metadata": {},
   "outputs": [
    {
     "data": {
      "text/plain": [
       "(1.7241484721289566, 1.123416829660566)"
      ]
     },
     "execution_count": 8,
     "metadata": {},
     "output_type": "execute_result"
    }
   ],
   "source": [
    "theta, phi"
   ]
  },
  {
   "cell_type": "code",
   "execution_count": 9,
   "id": "648f9178",
   "metadata": {},
   "outputs": [
    {
     "name": "stdout",
     "output_type": "stream",
     "text": [
      "[0.29 0.71]\n"
     ]
    }
   ],
   "source": [
    "# should always be [1, 0] no matter what |psi> is\n",
    "print(Teleportation(theta,phi))"
   ]
  },
  {
   "cell_type": "code",
   "execution_count": 43,
   "id": "747f0086",
   "metadata": {},
   "outputs": [
    {
     "data": {
      "text/plain": [
       "'Question: How to create barriers with penylane in qiskit?'"
      ]
     },
     "execution_count": 43,
     "metadata": {},
     "output_type": "execute_result"
    }
   ],
   "source": [
    "'''Question: How to create barriers with penylane in qiskit?'''"
   ]
  },
  {
   "cell_type": "code",
   "execution_count": 10,
   "id": "f6910f97",
   "metadata": {},
   "outputs": [
    {
     "name": "stdout",
     "output_type": "stream",
     "text": [
      " 0: ──RZ(0)───RY(1.72)──RZ(1.12)──╭C───H──╭C─────────────────────────────┤       \n",
      " 1: ──H──────╭C───────────────────╰X──╭C──│──────────────────────────────┤       \n",
      " 2: ─────────╰X───────────────────────╰X──╰Z──RZ(0)──RY(1.72)──RZ(1.12)──┤ Probs \n",
      "\n"
     ]
    }
   ],
   "source": [
    "drawer = qml.draw(Teleportation)\n",
    "print(drawer(theta, phi))"
   ]
  },
  {
   "cell_type": "code",
   "execution_count": 14,
   "id": "1d463afb",
   "metadata": {},
   "outputs": [
    {
     "data": {
      "text/plain": [
       "' Why printed twice? '"
      ]
     },
     "execution_count": 14,
     "metadata": {},
     "output_type": "execute_result"
    },
    {
     "data": {
      "image/png": "[encoded data removed]",
      "text/plain": [
       "<Figure size 808.997x264.88 with 1 Axes>"
      ]
     },
     "metadata": {},
     "output_type": "display_data"
    }
   ],
   "source": [
    "dev._circuit.draw('mpl', plot_barriers = True)\n",
    "\n",
    "''' Why printed twice? '''"
   ]
  },
  {
   "cell_type": "markdown",
   "id": "ffe19b9b",
   "metadata": {},
   "source": [
    "------\n",
    "### Quantum Teleportation on the IBM Quantum Computer"
   ]
  },
  {
   "cell_type": "markdown",
   "id": "b01e94b1",
   "metadata": {},
   "source": [
    "In this section, we will run the teleportation circuit on the IBM Quantum Computer. During the pre-reading, you must have signed up for an [IBMQ account](https://quantum-computing.ibm.com/). On the [IBM Quantum Dashboard](https://quantum-computing.ibm.com/), you should be able to sign-in and access your API token here\n",
    "\n",
    "![image.png](images/qiskit_api.png)"
   ]
  },
  {
   "cell_type": "markdown",
   "id": "2172a8dc",
   "metadata": {},
   "source": [
    "Simply use the API from the IBM Quantum Dashboard in the device initialization below :"
   ]
  },
  {
   "cell_type": "markdown",
   "id": "60458627",
   "metadata": {},
   "source": [
    "API_KEY here!\n",
    "<!-- api_key = \"e9ac9fb65f17466cad06ae5759883a3499dcc4bea7b8633e721de2f81c84ff93cf86ae029ce5f9f8c721f2978f9b759e6b874cb08a19aa5e189d5a7032c9ef3f\" -->"
   ]
  },
  {
   "cell_type": "code",
   "execution_count": 15,
   "id": "63bdb50c",
   "metadata": {},
   "outputs": [],
   "source": [
    "# Setup the device object to run on real quantum device\n",
    "# Note - This command can only be run once in a single kernel - if need to re-run, restart the kernel and re-run\n",
    "dev = qml.device('qiskit.ibmq', wires=3, backend='ibmqx2', shots=2000, ibmqx_token= api_key)"
   ]
  },
  {
   "cell_type": "code",
   "execution_count": 16,
   "id": "e11bc8f0",
   "metadata": {},
   "outputs": [],
   "source": [
    "@qml.qnode(dev)\n",
    "def Teleportation(theta, phi):\n",
    "    # Your solution here\n",
    "    initialize_psi(theta, phi, wire = 0)\n",
    "    create_Bell_state()\n",
    "    Alice_gates()\n",
    "    Bob_gates()\n",
    "    qml.adjoint(initialize_psi(theta, phi, wire = 2))\n",
    "    \n",
    "    return qml.probs(2)"
   ]
  },
  {
   "cell_type": "code",
   "execution_count": 17,
   "id": "57ac57eb",
   "metadata": {},
   "outputs": [],
   "source": [
    "np.random.seed(0)\n",
    "theta = np.pi*np.random.uniform()\n",
    "phi = np.pi/2*np.random.uniform()"
   ]
  },
  {
   "cell_type": "code",
   "execution_count": 18,
   "id": "7de2b9bd",
   "metadata": {},
   "outputs": [
    {
     "data": {
      "text/plain": [
       "(1.7241484721289566, 1.123416829660566)"
      ]
     },
     "execution_count": 18,
     "metadata": {},
     "output_type": "execute_result"
    }
   ],
   "source": [
    "theta, phi"
   ]
  },
  {
   "cell_type": "code",
   "execution_count": 19,
   "id": "452f1b8e",
   "metadata": {},
   "outputs": [
    {
     "name": "stderr",
     "output_type": "stream",
     "text": [
      "/home/saasha/anaconda3/envs/cornerstone_qc/lib/python3.8/site-packages/pennylane_qiskit/qiskit_device.py:315: UserWarning: ibmqx_token is not a recognized runtime option and may be ignored by the backend.\n",
      "  self._current_job = self.backend.run(qcirc, shots=self.shots, **self.run_args)\n",
      "/home/saasha/anaconda3/envs/cornerstone_qc/lib/python3.8/site-packages/pennylane_qiskit/qiskit_device.py:315: UserWarning: verbose is not a recognized runtime option and may be ignored by the backend.\n",
      "  self._current_job = self.backend.run(qcirc, shots=self.shots, **self.run_args)\n"
     ]
    },
    {
     "name": "stdout",
     "output_type": "stream",
     "text": [
      "[0.52 0.48]\n"
     ]
    }
   ],
   "source": [
    "# should always be [1, 0] no matter what |psi> is\n",
    "print(Teleportation(theta,phi))"
   ]
  },
  {
   "cell_type": "code",
   "execution_count": 20,
   "id": "747ee216",
   "metadata": {},
   "outputs": [
    {
     "data": {
      "image/png": "[encoded data removed]",
      "text/plain": [
       "<Figure size 808.997x264.88 with 1 Axes>"
      ]
     },
     "execution_count": 20,
     "metadata": {},
     "output_type": "execute_result"
    },
    {
     "data": {
      "image/png": "[encoded data removed]",
      "text/plain": [
       "<Figure size 808.997x264.88 with 1 Axes>"
      ]
     },
     "metadata": {},
     "output_type": "display_data"
    }
   ],
   "source": [
    "dev._circuit.draw('mpl')"
   ]
  },
  {
   "cell_type": "code",
   "execution_count": 38,
   "id": "2e1aeffa",
   "metadata": {},
   "outputs": [
    {
     "data": {
      "text/plain": [
       "{'gate_sizes': defaultdict(int, {1: 8, 2: 4}),\n",
       " 'gate_types': defaultdict(int,\n",
       "             {'RZ': 4, 'RY': 2, 'Hadamard': 2, 'CNOT': 3, 'CZ': 1}),\n",
       " 'num_operations': 12,\n",
       " 'num_observables': 1,\n",
       " 'num_diagonalizing_gates': 0,\n",
       " 'num_used_wires': 3,\n",
       " 'depth': 9,\n",
       " 'num_trainable_params': 4,\n",
       " 'num_parameter_shift_executions': 9,\n",
       " 'num_device_wires': 3,\n",
       " 'device_name': 'qiskit.ibmq',\n",
       " 'diff_method': 'best'}"
      ]
     },
     "execution_count": 38,
     "metadata": {},
     "output_type": "execute_result"
    }
   ],
   "source": [
    "specs_func = qml.specs(Teleportation)\n",
    "specs_func(theta, phi)"
   ]
  },
  {
   "cell_type": "markdown",
   "id": "97c4f0ff",
   "metadata": {},
   "source": [
    "### More Bonus Exercises: Pauli corrections by classical post-processing\n",
    "\n",
    "As was stated earlier, in the `pennylane` framework, measurement of the circuit has to be performed as the very last step *after* all gates have been applied! This means, it is not possible to implement the Pauli corrections that depend on the measurement outcomes of qubits `0` and `1`.\n",
    "\n",
    "Instead, we can apply the Pauli corrections *classically*. We measure all three qubits and then post-process each recorded measurement outcome according to the Pauli corrections."
   ]
  },
  {
   "cell_type": "markdown",
   "id": "62c8fce9",
   "metadata": {},
   "source": [
    "Let's see how this works. Assume we are performing a measurement in the $z$-basis which means that we can differentiate between outcomes $\\left|0\\right>$ and $\\left|1\\right>$. The $X$ correction just before measurement swaps the roles of $\\left|0\\right>$ and $\\left|1\\right>$. Thus, instead of actually applying an $X$-gate, simply swapping the measured probabilities of getting $\\left|0\\right>$ and $\\left|1\\right>$ will do the same job! The $Z$ correction has no effect on the measurement statistics, since it simply adds a phase of $-1$ to $\\left|1\\right>$ which we can't measure anyways.\n",
    "\n",
    "> ***Bonus Exercise.*** How can we retroactively apply the $X$ and $Z$ correction when we measure in the $x$-basis, i.e. when we differentiate between outcomes $\\left|+\\right>$ and $\\left|-\\right>$?"
   ]
  },
  {
   "cell_type": "markdown",
   "id": "a34b3a6d",
   "metadata": {},
   "source": [
    "For an arbitrary single-qubit-state parameterized as $\\left|\\psi\\right> = \\cos \\frac{\\theta}{2}\\left|0\\right> + e^{i\\varphi} \\sin\\frac{\\theta}{2} \\left|1\\right>$ the expectation values of the Pauli operators are"
   ]
  },
  {
   "cell_type": "markdown",
   "id": "4d5d5c75",
   "metadata": {},
   "source": [
    "$$\n",
    "\\begin{aligned}\n",
    "\\langle X \\rangle &= \\cos \\varphi \\sin \\theta \\\\\n",
    "\\langle Y \\rangle &= \\sin \\varphi \\sin \\theta \\\\\n",
    "\\langle Z \\rangle &= \\cos \\theta \\,,\n",
    "\\end{aligned}\n",
    "$$\n",
    "\n",
    "i.e. the expectation value of the operators $X,Y,Z$ are the projection of the Bloch vector on the $x,y,z-$axis.\n",
    "\n",
    "So, if we measure $\\langle Z \\rangle$, we can compute $\\theta$. If we measure a second Pauli operator, we also find $\\varphi$. Voilà, we have identified our quantum state!"
   ]
  },
  {
   "cell_type": "markdown",
   "id": "26ee46ec",
   "metadata": {},
   "source": [
    "<div>\n",
    "<img src=\"images/bloch_sphere.png\" width=\"300\">\n",
    "</div>"
   ]
  },
  {
   "cell_type": "markdown",
   "id": "daaaf241",
   "metadata": {},
   "source": [
    "> ***Bonus Exercise.*** Write a python function ` findState(x_exp,z_exp)` that takes expectation values $\\langle X \\rangle$ and $\\langle Z \\rangle$ as inputs and returns $\\varphi$ and $\\theta$. (To keep thing simple, assume that $\\varphi \\in [0,\\pi)$ for our purposes.)"
   ]
  },
  {
   "cell_type": "code",
   "execution_count": 39,
   "id": "bae97df7",
   "metadata": {},
   "outputs": [],
   "source": [
    "import numpy as np\n",
    "\n",
    "def findState(x_exp,z_exp):\n",
    "    # Your solution here\n",
    "    theta = np.arccos(z_exp)\n",
    "    sin_theta = np.sin(theta)\n",
    "    \n",
    "    phi = np.arccos(x_exp/sin_theta)\n",
    "    \n",
    "    return phi,theta"
   ]
  },
  {
   "cell_type": "markdown",
   "id": "10721efe",
   "metadata": {},
   "source": [
    "Below is our implementation of the teleportation circuit that combines all code snippets that you have written so far. There are two circuits. `teleportMeasureX` initializes the input qubit `0` in the state $\\left|\\psi\\right> = \\cos \\frac{\\theta}{2}\\left|0\\right> + e^{i\\varphi} \\sin\\frac{\\theta}{2} \\left|1\\right>$, implements the teleportation, and measures qubit `2` in the $x$-basis while `teleportMeasureZ` measures the last qubit in the $z$-basis."
   ]
  },
  {
   "cell_type": "code",
   "execution_count": 40,
   "id": "e0372e9f",
   "metadata": {
    "tags": []
   },
   "outputs": [],
   "source": [
    "@qml.qnode(dev)\n",
    "def teleportMeasureX(phi,theta):\n",
    "    # prepare input state cos(θ/2)|0> + e^(iϕ) sin(θ/2)|1>\n",
    "    qml.Rot(0,theta,phi, wires=0)\n",
    "    \n",
    "    # build the actual circuit\n",
    "    create_Bell_state()\n",
    "    Alice_gates()    # rotate to the Bell basis\n",
    "    \n",
    "    # rotate the x-basis into the z basis ( |+> --> |0> and |-> --> |1> )\n",
    "    qml.Hadamard(wires=2)\n",
    "    \n",
    "    # return the measurement statistics\n",
    "    return qml.probs(wires=[0,1,2])\n",
    "\n",
    "@qml.qnode(dev)\n",
    "def teleportMeasureZ(phi,theta):\n",
    "    # prepare input state\n",
    "    qml.Rot(0,theta,phi, wires=0)\n",
    "    \n",
    "    # build the actual circuit\n",
    "    create_Bell_state()\n",
    "    Alice_gates()\n",
    "    \n",
    "    # return the measurement statistics\n",
    "    return qml.probs(wires=[0,1,2])"
   ]
  },
  {
   "cell_type": "markdown",
   "id": "f12ae957",
   "metadata": {},
   "source": [
    "To make things interesting, we randomly choose the parameters of the input state $\\left|\\psi\\right> = \\cos \\frac{\\theta}{2}\\left|0\\right> + e^{i\\varphi} \\sin\\frac{\\theta}{2} \\left|1\\right>$ as $\\varphi,\\theta \\in [0,\\pi)$."
   ]
  },
  {
   "cell_type": "code",
   "execution_count": 42,
   "id": "f11f3583",
   "metadata": {},
   "outputs": [
    {
     "name": "stdout",
     "output_type": "stream",
     "text": [
      "1.3747207682077196 2.8015875079267065\n"
     ]
    }
   ],
   "source": [
    "theta = np.random.rand() * np.pi\n",
    "phi = np.random.rand() * np.pi\n",
    "\n",
    "print(theta, phi)"
   ]
  },
  {
   "cell_type": "markdown",
   "id": "83d42ae3",
   "metadata": {},
   "source": [
    "Now we perform the post-processing of the data to apply the Pauli corrections and compute the expectation values $\\langle X \\rangle$ (`x_exp`) and $\\langle Z \\rangle $ (`z_exp`). If you are pressured for time, you can simply run the code cell below and understand the steps in the code later.\n"
   ]
  },
  {
   "cell_type": "code",
   "execution_count": 43,
   "id": "1bcec37d",
   "metadata": {
    "tags": []
   },
   "outputs": [],
   "source": [
    "binaries = ['000', '001', '010', '011', '100', '101', '110','111']\n",
    "\n",
    "x_probs = teleportMeasureX(phi, theta) # run the quantum circuit\n",
    "# the list x_probs will contain the measured probabilities, where the first entry corresponds\n",
    "# to |000>, the second to |001>, the third to |010>, ...\n",
    "\n",
    "x_exp = 0 # this variable will contain <X>, we initialize it with 0\n",
    "\n",
    "for i in np.arange(2**3): # loop through all possible outcomes\n",
    "    bits = binaries[i]\n",
    "    outcome = int(bits[2]) # get the state of the last qubit\n",
    "    eigenvalue = (-2*outcome + 1) # the eigenvalue is 1 if the qubit was measured to be 0. It is -1 if the qubit was measured 1\n",
    "    if bits[0]=='1':\n",
    "        eigenvalue = (-eigenvalue) # Apply the Pauli-Z correction, i.e. flip the eigenvalue if qubit 0 was measured 1\n",
    "        # The Pauli-X correction has no effect since we are measuring in the X-basis\n",
    "    x_exp += eigenvalue * x_probs[i] # compute the expectation value as <X> = \\sum_i probs_i * eigenvalue_i\n",
    "\n",
    "\n",
    "z_probs = teleportMeasureZ(phi, theta)\n",
    "z_exp = 0\n",
    "\n",
    "for i in np.arange(2**3): # loop through all possible outcomes\n",
    "    bits = binaries[i]\n",
    "    outcome = int(bits[2])\n",
    "    eigenvalue = (-2*outcome + 1)\n",
    "    if bits[1]=='1':\n",
    "        eigenvalue = (-eigenvalue) # Apply the Pauli-X correction, i.e. flip the eigenvalue if qubit 1 was measured 1\n",
    "        # The Pauli-Z correction has no effect since we are measuring in the Z-basis\n",
    "    z_exp += eigenvalue * z_probs[i]"
   ]
  },
  {
   "cell_type": "markdown",
   "id": "718c72bb",
   "metadata": {},
   "source": [
    "> ***Bonus Exercise.*** Scrap the above code cell and program your own data processing routine from scratch."
   ]
  },
  {
   "cell_type": "markdown",
   "id": "e4ed2afd",
   "metadata": {},
   "source": [
    "Finally, having computed $\\langle X\\rangle$ and $\\langle Z\\rangle$ we can use our function `findState` to compute the angles of our Bloch vector:"
   ]
  },
  {
   "cell_type": "code",
   "execution_count": 44,
   "id": "85b94f26",
   "metadata": {},
   "outputs": [
    {
     "name": "stdout",
     "output_type": "stream",
     "text": [
      "Measured angles: ϕ= 2.801587507926706 , θ= 1.3747207682077196\n"
     ]
    }
   ],
   "source": [
    "phi_measured, theta_measured = findState(x_exp, z_exp)\n",
    "print('Measured angles: ϕ=', phi_measured, ', θ=', theta_measured)"
   ]
  },
  {
   "cell_type": "markdown",
   "id": "8cdcc81c",
   "metadata": {},
   "source": [
    "Let's compare this to the actual parameters of the initial state. Hopefully they agree with our measurement!"
   ]
  },
  {
   "cell_type": "code",
   "execution_count": 45,
   "id": "229ca7c4",
   "metadata": {},
   "outputs": [
    {
     "name": "stdout",
     "output_type": "stream",
     "text": [
      "Initial state: ϕ= 2.8015875079267065 , θ= 1.3747207682077196\n"
     ]
    }
   ],
   "source": [
    "print('Initial state: ϕ=', phi, ', θ=', theta)"
   ]
  },
  {
   "cell_type": "markdown",
   "id": "8bfc0aa8",
   "metadata": {},
   "source": [
    "### References\n",
    "1. M. Nielsen and I. Chuang, Quantum Computation and Quantum Information (2000)\n",
    "2. `qiskit` [textbook](https://qiskit.org/textbook) "
   ]
  },
  {
   "cell_type": "markdown",
   "id": "8b366f48",
   "metadata": {},
   "source": [
    "# GHZ states\n",
    "------\n",
    "[author]: # (Written by Giovanni Iannelli and Paolo Stornati, July 2021. Please email me us at <giovanni.iannelli@desy.de> or <paolo.stornati@desy.de> in case of errors.)"
   ]
  },
  {
   "cell_type": "code",
   "execution_count": 2,
   "id": "64736bf7",
   "metadata": {},
   "outputs": [],
   "source": [
    "import pennylane as qml\n",
    "from pennylane import numpy as np"
   ]
  },
  {
   "cell_type": "markdown",
   "id": "f62e4972",
   "metadata": {},
   "source": [
    "In yesterdays's homework, we learned how to construct two-qubit entangled states (_Bell states_) with PennyLane by applying a Hadamard gate followed by a CNOT. This worksheet will build upon that knowledge and extend the ideas of entanglement to three qubits.\n",
    " "
   ]
  },
  {
   "cell_type": "markdown",
   "id": "04efa31f",
   "metadata": {},
   "source": [
    "While the canonical example of an entanglement is a 2-qubit system, this is just the tip of the iceberg. Systems with more than 2 qubits can contain varying degrees of entanglement. For example, in a 3-qubit system, it may be the case that  \n",
    "- None of the qubits are entangled and the qubits are in a product state (e.g $|000\\rangle$, $|010\\rangle$ ...)\n",
    " - a pair of two are entangled and the third is separate, e.g. $\\frac{1}{\\sqrt{2}} \\left( |00\\rangle + |11 \\rangle \\right) |0\\rangle$ \n",
    " - all three are fully entangled. \n",
    " \n",
    "The GHZ state is an example of the third case, and is in a sense the logical extension of the Bell state. A 3-qubit GHZ state is defined as\n",
    "$$\n",
    "|\\hbox{GHZ} \\rangle_3 = \\frac{1}{\\sqrt{2}} \\left( |000\\rangle + |111 \\rangle \\right) \n",
    "$$\n",
    "GHZ states are named after the researchers who first studied them: [Greenberger, Horne, and Zeilinger](https://arxiv.org/abs/0712.0921)."
   ]
  },
  {
   "cell_type": "markdown",
   "id": "66a682b4",
   "metadata": {},
   "source": [
    "Let's make one!"
   ]
  },
  {
   "cell_type": "markdown",
   "id": "6a391ff4",
   "metadata": {},
   "source": [
    "> **Exercise 1.1:** Starting from $|00\\rangle$, we built the Bell state in the following way:\n",
    "$$C_{NOT}^{0,1}H^0|00\\rangle = C_{NOT}^{0,1}\\frac{1}{\\sqrt{2}}(|0\\rangle + |1\\rangle)|0\\rangle =C_{NOT}^{0,1}\\frac{1}{\\sqrt{2}}(|00\\rangle + |10\\rangle)=\\frac{1}{\\sqrt{2}}(|00\\rangle+|11\\rangle).$$\n",
    "How is then possible to build a GHZ state starting from $|000\\rangle$? (Hint: Start with the same two gate operations used for the Bell state, i.e. start applying $C_{NOT}^{0,1}H^0$ to $|000\\rangle$. The solution is not unique.)"
   ]
  },
  {
   "cell_type": "markdown",
   "id": "b1dabd9d",
   "metadata": {},
   "source": [
    "> **Exercise 1.2:** Implement your answer to exercise 1.1 in PennyLane. After that, run the test and verify that the state has 50% probability of being observed in state $|000\\rangle$, 50% in $|111\\rangle$ and 0% in all other states."
   ]
  },
  {
   "cell_type": "code",
   "execution_count": 3,
   "id": "c5c61d70",
   "metadata": {},
   "outputs": [],
   "source": [
    "# This is a helper function to output the basis state probabilities\n",
    "# Run this cell, but no need to change anything here\n",
    "def pretty_print_probabilities(num_qubits, probs):\n",
    "    print(\"Basis state probabilities: \")\n",
    "    format_string = f'0{num_qubits}b'\n",
    "    for state_idx in range(2**num_qubits):\n",
    "        print(f\"|{format(state_idx, format_string)}>: {probs[state_idx]:.3f}\")"
   ]
  },
  {
   "cell_type": "code",
   "execution_count": 4,
   "id": "a6c499de",
   "metadata": {},
   "outputs": [],
   "source": [
    "# Sets up a device with 3 qubits\n",
    "dev = qml.device('default.qubit', wires=3, shots=None)\n",
    "\n",
    "@qml.qnode(dev)\n",
    "def GHZ_3(): \n",
    "    # Hint: add gates to the circuit with qml.Hadamard(...) and qml.CNOT(...)\n",
    "    # Your solution here\n",
    "    qml.Hadamard(wires = 0)\n",
    "    qml.CNOT(wires = [0, 1])\n",
    "    qml.CNOT(wires = [0, 2])\n",
    "    \n",
    "    return qml.probs(wires=range(dev.num_wires))"
   ]
  },
  {
   "cell_type": "code",
   "execution_count": 5,
   "id": "c68be967",
   "metadata": {},
   "outputs": [
    {
     "name": "stdout",
     "output_type": "stream",
     "text": [
      "Basis state probabilities: \n",
      "|000>: 0.500\n",
      "|001>: 0.000\n",
      "|010>: 0.000\n",
      "|011>: 0.000\n",
      "|100>: 0.000\n",
      "|101>: 0.000\n",
      "|110>: 0.000\n",
      "|111>: 0.500\n"
     ]
    }
   ],
   "source": [
    "# Run the circuit and print results\n",
    "basis_state_probabilities = GHZ_3()\n",
    "pretty_print_probabilities(dev.num_wires, basis_state_probabilities)"
   ]
  },
  {
   "cell_type": "markdown",
   "id": "488a634e",
   "metadata": {},
   "source": [
    "> **Exercise 1.3:** Let's check whether the three qubits in the GHZ state are fully entangled. Before any measure, every qubit has 50% probability of being observed in state 0 or 1. If one of the three qubits is observed in state 1, what's the probability of the other two qubits being in state 1 as well?"
   ]
  },
  {
   "cell_type": "markdown",
   "id": "72547d0c",
   "metadata": {},
   "source": [
    "The other two qubits will be in state 1 as well in 100% of cases. Measuring one qubit then modifies the state of the other two qubits, hence all three qubits are entangled."
   ]
  },
  {
   "cell_type": "markdown",
   "id": "eb67cdc2",
   "metadata": {},
   "source": [
    "> **Exercise 1.4:** Let's run the same circuit in a real IBMQ device using 100 shots. Do we observe only two outcomes as before? Are the conclusions drawn in the previous exercises still valid?"
   ]
  },
  {
   "cell_type": "markdown",
   "id": "ranging-example",
   "metadata": {},
   "source": [
    "API_KEY here!\n",
    "<!-- api_key = \"e9ac9fb65f17466cad06ae5759883a3499dcc4bea7b8633e721de2f81c84ff93cf86ae029ce5f9f8c721f2978f9b759e6b874cb08a19aa5e189d5a7032c9ef3f\" -->"
   ]
  },
  {
   "cell_type": "code",
   "execution_count": 6,
   "id": "27d2726f",
   "metadata": {},
   "outputs": [],
   "source": [
    "dev = qml.device('qiskit.ibmq', wires=3, backend='ibmqx2', shots=100, ibmqx_token= api_key)\n",
    "\n",
    "@qml.qnode(dev)\n",
    "def GHZ_3_device():\n",
    "    # Your solution here\n",
    "    qml.Hadamard(wires = 0)\n",
    "    qml.CNOT(wires = [0, 1])\n",
    "    qml.CNOT(wires = [0, 2])\n",
    "    \n",
    "    return qml.probs(wires=range(dev.num_wires))"
   ]
  },
  {
   "cell_type": "code",
   "execution_count": 7,
   "id": "bc45d034",
   "metadata": {},
   "outputs": [
    {
     "name": "stderr",
     "output_type": "stream",
     "text": [
      "/home/saasha/anaconda3/envs/cornerstone_qc/lib/python3.8/site-packages/pennylane_qiskit/qiskit_device.py:315: UserWarning: ibmqx_token is not a recognized runtime option and may be ignored by the backend.\n",
      "  self._current_job = self.backend.run(qcirc, shots=self.shots, **self.run_args)\n",
      "/home/saasha/anaconda3/envs/cornerstone_qc/lib/python3.8/site-packages/pennylane_qiskit/qiskit_device.py:315: UserWarning: verbose is not a recognized runtime option and may be ignored by the backend.\n",
      "  self._current_job = self.backend.run(qcirc, shots=self.shots, **self.run_args)\n"
     ]
    },
    {
     "name": "stdout",
     "output_type": "stream",
     "text": [
      "Basis state probabilities: \n",
      "|000>: 0.290\n",
      "|001>: 0.040\n",
      "|010>: 0.100\n",
      "|011>: 0.030\n",
      "|100>: 0.060\n",
      "|101>: 0.070\n",
      "|110>: 0.050\n",
      "|111>: 0.360\n"
     ]
    }
   ],
   "source": [
    "# Run the circuit and print results\n",
    "# Using the real device might take a long time\n",
    "basis_state_probabilities = GHZ_3_device()\n",
    "pretty_print_probabilities(dev.num_wires, basis_state_probabilities)"
   ]
  },
  {
   "cell_type": "markdown",
   "id": "0b381c49",
   "metadata": {},
   "source": [
    "The system is still observed most of the times in the states 000 or 111, each of them with similar probability. However, they are not the only states observed. Therefore, observing just one qubit is not sufficient anymore to infer the state of the other two. This alteration of results is due to gate errors and quantum decoherence."
   ]
  },
  {
   "cell_type": "markdown",
   "id": "a1ecc321",
   "metadata": {},
   "source": [
    "> **Bonus 1.5:** As a point of interest, GHZ states can be generalized to $n$ qubits, \n",
    " $$\n",
    " |\\hbox{GHZ} \\rangle_n = \\frac{1}{\\sqrt{2}} \\left( |0\\rangle^{\\otimes n} + |1 \\rangle^{\\otimes n} \\right),\n",
    " $$\n",
    "> where the notation $|0\\rangle^{\\otimes n}$ means $n$ tensor product copies of $|0\\rangle$.\n",
    "> Generalize the construction of the GHZ state to arbitrary $n$."
   ]
  },
  {
   "cell_type": "code",
   "execution_count": 30,
   "id": "51ec651d",
   "metadata": {},
   "outputs": [],
   "source": [
    "# Change n to whatever you like\n",
    "n = 4\n",
    "\n",
    "dev = qml.device('default.qubit', wires=n, shots=None)\n",
    "\n",
    "@qml.qnode(dev)\n",
    "def GHZ_n():\n",
    "    # Your solution here\n",
    "    qml.Hadamard(wires = 0)\n",
    "    \n",
    "    for i in range(1, n):\n",
    "        qml.CNOT(wires = [0, i])\n",
    "    \n",
    "    return qml.probs(wires=range(dev.num_wires))"
   ]
  },
  {
   "cell_type": "code",
   "execution_count": 31,
   "id": "dd422416",
   "metadata": {},
   "outputs": [
    {
     "name": "stdout",
     "output_type": "stream",
     "text": [
      "Basis state probabilities: \n",
      "|0000>: 0.500\n",
      "|0001>: 0.000\n",
      "|0010>: 0.000\n",
      "|0011>: 0.000\n",
      "|0100>: 0.000\n",
      "|0101>: 0.000\n",
      "|0110>: 0.000\n",
      "|0111>: 0.000\n",
      "|1000>: 0.000\n",
      "|1001>: 0.000\n",
      "|1010>: 0.000\n",
      "|1011>: 0.000\n",
      "|1100>: 0.000\n",
      "|1101>: 0.000\n",
      "|1110>: 0.000\n",
      "|1111>: 0.500\n"
     ]
    }
   ],
   "source": [
    "# Run the circuit and print results\n",
    "basis_state_probabilities = GHZ_n()\n",
    "pretty_print_probabilities(dev.num_wires, basis_state_probabilities)"
   ]
  },
  {
   "cell_type": "code",
   "execution_count": 36,
   "id": "e151f646",
   "metadata": {},
   "outputs": [
    {
     "name": "stdout",
     "output_type": "stream",
     "text": [
      " 0: ──H──╭C──╭C──╭C──╭┤ Probs \n",
      " 1: ─────╰X──│───│───├┤ Probs \n",
      " 2: ─────────╰X──│───├┤ Probs \n",
      " 3: ─────────────╰X──╰┤ Probs \n",
      "\n"
     ]
    }
   ],
   "source": [
    "drawer = qml.draw(GHZ_n)\n",
    "print(drawer())"
   ]
  },
  {
   "cell_type": "code",
   "execution_count": 32,
   "id": "92ec83b5",
   "metadata": {},
   "outputs": [
    {
     "name": "stdout",
     "output_type": "stream",
     "text": [
      "With the second method: \n"
     ]
    },
    {
     "ename": "NameError",
     "evalue": "name 'GHZ_n_version_2' is not defined",
     "output_type": "error",
     "traceback": [
      "\u001b[0;31m---------------------------------------------------------------------------\u001b[0m",
      "\u001b[0;31mNameError\u001b[0m                                 Traceback (most recent call last)",
      "\u001b[0;32m/tmp/ipykernel_18301/2042935363.py\u001b[0m in \u001b[0;36m<module>\u001b[0;34m\u001b[0m\n\u001b[1;32m      1\u001b[0m \u001b[0mprint\u001b[0m\u001b[0;34m(\u001b[0m\u001b[0;34m\"With the second method: \"\u001b[0m\u001b[0;34m)\u001b[0m\u001b[0;34m\u001b[0m\u001b[0;34m\u001b[0m\u001b[0m\n\u001b[0;32m----> 2\u001b[0;31m \u001b[0mbasis_state_probabilities_2\u001b[0m \u001b[0;34m=\u001b[0m \u001b[0mGHZ_n_version_2\u001b[0m\u001b[0;34m(\u001b[0m\u001b[0;34m)\u001b[0m\u001b[0;34m\u001b[0m\u001b[0;34m\u001b[0m\u001b[0m\n\u001b[0m\u001b[1;32m      3\u001b[0m \u001b[0mpretty_print_probabilities\u001b[0m\u001b[0;34m(\u001b[0m\u001b[0mdev\u001b[0m\u001b[0;34m.\u001b[0m\u001b[0mnum_wires\u001b[0m\u001b[0;34m,\u001b[0m \u001b[0mbasis_state_probabilities_2\u001b[0m\u001b[0;34m)\u001b[0m\u001b[0;34m\u001b[0m\u001b[0;34m\u001b[0m\u001b[0m\n",
      "\u001b[0;31mNameError\u001b[0m: name 'GHZ_n_version_2' is not defined"
     ]
    }
   ],
   "source": [
    "print(\"With the second method: \")\n",
    "basis_state_probabilities_2 = GHZ_n_version_2()\n",
    "pretty_print_probabilities(dev.num_wires, basis_state_probabilities_2)"
   ]
  },
  {
   "cell_type": "markdown",
   "id": "c800a12b",
   "metadata": {},
   "source": [
    "> **Bonus 1.5:** We are often interested in the resource requirements of quantum circuits, especially in the present era where operations are noisy, and coherence times of qubits are low. Common metrics of circuit quality are width (number of qubits), depth (number of sequential operations that cannot be parallelized), and the number of specific types of gates, especially 2-qubit gates. For the `GHZ_n` circuit you wrote above, what are the width, depth, and gate counts in terms of $n$?"
   ]
  },
  {
   "cell_type": "code",
   "execution_count": 33,
   "id": "273f0e60",
   "metadata": {},
   "outputs": [
    {
     "data": {
      "text/plain": [
       "{'gate_sizes': defaultdict(int, {1: 1, 2: 3}),\n",
       " 'gate_types': defaultdict(int, {'Hadamard': 1, 'CNOT': 3}),\n",
       " 'num_operations': 4,\n",
       " 'num_observables': 1,\n",
       " 'num_diagonalizing_gates': 0,\n",
       " 'num_used_wires': 4,\n",
       " 'depth': 4,\n",
       " 'num_device_wires': 4,\n",
       " 'device_name': 'default.qubit.autograd',\n",
       " 'diff_method': 'backprop'}"
      ]
     },
     "execution_count": 33,
     "metadata": {},
     "output_type": "execute_result"
    }
   ],
   "source": [
    "specs_func = qml.specs(GHZ_n)\n",
    "specs_func()"
   ]
  }
 ],
 "metadata": {
  "kernelspec": {
   "display_name": "Python 3",
   "language": "python",
   "name": "python3"
  },
  "language_info": {
   "codemirror_mode": {
    "name": "ipython",
    "version": 3
   },
   "file_extension": ".py",
   "mimetype": "text/x-python",
   "name": "python",
   "nbconvert_exporter": "python",
   "pygments_lexer": "ipython3",
   "version": "3.8.10"
  }
 },
 "nbformat": 4,
 "nbformat_minor": 5
}
